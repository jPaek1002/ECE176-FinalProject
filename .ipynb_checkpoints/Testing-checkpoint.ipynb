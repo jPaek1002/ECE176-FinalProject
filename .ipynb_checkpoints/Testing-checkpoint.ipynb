{
 "cells": [
  {
   "cell_type": "code",
   "execution_count": 24,
   "id": "08ae97ba",
   "metadata": {},
   "outputs": [],
   "source": [
    "import torch\n",
    "import torchvision\n",
    "import torchvision.transforms as transforms\n",
    "import torch.nn as nn\n",
    "from torchvision import datasets\n",
    "import matplotlib.pyplot as plt"
   ]
  },
  {
   "cell_type": "code",
   "execution_count": 37,
   "id": "54d55522",
   "metadata": {},
   "outputs": [
    {
     "name": "stdout",
     "output_type": "stream",
     "text": [
      "Model 1 accuracy: 0.9937\n",
      "Model 2 accuracy: 0.7072\n",
      "Model 1 accuracy: 0.9919\n",
      "Model 2 accuracy: 0.5581\n",
      "Model 1 accuracy: 0.9906\n",
      "Model 2 accuracy: 0.5287\n",
      "Model 1 accuracy: 0.9903\n",
      "Model 2 accuracy: 0.5226\n",
      "Model 1 accuracy: 0.9901\n",
      "Model 2 accuracy: 0.5218\n",
      "Model 1 accuracy: 0.9902\n",
      "Model 2 accuracy: 0.5211\n",
      "Model 1 accuracy: 0.9902\n",
      "Model 2 accuracy: 0.5211\n",
      "Model 1 accuracy: 0.9902\n",
      "Model 2 accuracy: 0.5211\n"
     ]
    }
   ],
   "source": [
    "variances = [0.001,1,2,5,10,20,50,100]\n",
    "ttt = []\n",
    "resnet18 = []\n",
    "# Load the models\n",
    "model1 = ResNet(26, 1, channels=3, classes=10, norm_layer=nn.BatchNorm2d)\n",
    "checkpoint = torch.load('ckpt.pth')\n",
    "model1.load_state_dict(checkpoint['net'])\n",
    "\n",
    "model2 = torchvision.models.resnet18(pretrained=False)\n",
    "model2.conv1 = nn.Conv2d(1, 64, kernel_size=7, stride=2, padding=3, bias=False)\n",
    "model2.fc = nn.Linear(512, 10)\n",
    "model2.load_state_dict(torch.load('mnist.pth'))\n",
    "\n",
    "# Set the models to evaluation mode\n",
    "model1.eval()\n",
    "model2.eval()\n",
    "\n",
    "for i in variances:\n",
    "    # Define the data transformation\n",
    "    transform = transforms.Compose([\n",
    "        transforms.Resize((32, 32)),\n",
    "        transforms.GaussianBlur(kernel_size=3, sigma=(i,i)),\n",
    "        transforms.ToTensor(),\n",
    "        transforms.Normalize((0.1307,), (0.3081,)),\n",
    "    ])\n",
    "\n",
    "    # Load the MNIST test dataset\n",
    "    test_dataset = datasets.MNIST('data', train=False, download=True, transform=transform)\n",
    "\n",
    "    # Define the data loader\n",
    "    test_loader = torch.utils.data.DataLoader(test_dataset, batch_size=1000, shuffle=False)\n",
    "\n",
    "    # Define the loss function\n",
    "    criterion = torch.nn.CrossEntropyLoss()\n",
    "\n",
    "    # Initialize counters for correct predictions\n",
    "    correct1 = 0\n",
    "    correct2 = 0\n",
    "\n",
    "    # Loop over the test dataset\n",
    "    for data, target in test_loader:\n",
    "\n",
    "        # Forward pass through model 1\n",
    "        output1 = model1(data)\n",
    "        # Calculate the loss for model 1\n",
    "        loss1 = criterion(output1, target)\n",
    "        # Calculate the number of correct predictions for model 1\n",
    "        pred1 = output1.argmax(dim=1, keepdim=True)\n",
    "        correct1 += pred1.eq(target.view_as(pred1)).sum().item()\n",
    "\n",
    "        # Forward pass through model 2\n",
    "        output2 = model2(data)\n",
    "        # Calculate the loss for model 2\n",
    "        loss2 = criterion(output2, target)\n",
    "        # Calculate the number of correct predictions for model 2\n",
    "        pred2 = output2.argmax(dim=1, keepdim=True)\n",
    "        correct2 += pred2.eq(target.view_as(pred2)).sum().item()\n",
    "\n",
    "    # Calculate and print the accuracy for each model\n",
    "    accuracy1 = correct1 / len(test_loader.dataset)\n",
    "    accuracy2 = correct2 / len(test_loader.dataset)\n",
    "    ttt.append(accuracy1)\n",
    "    resnet18.append(accuracy2)\n",
    "    print(f'Model 1 accuracy: {accuracy1}')\n",
    "    print(f'Model 2 accuracy: {accuracy2}')"
   ]
  },
  {
   "cell_type": "code",
   "execution_count": 46,
   "id": "5e29b9a1",
   "metadata": {},
   "outputs": [
    {
     "data": {
      "text/plain": [
       "Text(0.5, 1.0, 'TTT vs ResNet18 Accuracy on MNIST across different AWGN variances')"
      ]
     },
     "execution_count": 46,
     "metadata": {},
     "output_type": "execute_result"
    },
    {
     "data": {
      "image/png": "[encoded data removed]",
      "text/plain": [
       "<Figure size 640x480 with 1 Axes>"
      ]
     },
     "metadata": {},
     "output_type": "display_data"
    }
   ],
   "source": [
    "fig, arr = plt.subplots((1))\n",
    "arr.plot(variances,ttt)\n",
    "arr.plot(variances,resnet18)\n",
    "arr.set_title('TTT vs ResNet18 Accuracy on MNIST across different AWGN variances')"
   ]
  },
  {
   "cell_type": "code",
   "execution_count": null,
   "id": "8a291578",
   "metadata": {},
   "outputs": [],
   "source": [
    "def apply_defocus_blur_tensor(tensor, kernel_size=15):\n",
    "    # Convert tensor to numpy array and reshape\n",
    "    img = tensor.cpu().numpy().squeeze()\n",
    "    img = np.transpose(img, (1, 2, 0))\n",
    "\n",
    "    # Create a circular aperture mask with a radius of 50 pixels\n",
    "    aperture_mask = cv2.getStructuringElement(cv2.MORPH_ELLIPSE, (50, 50))\n",
    "\n",
    "    # Dilate the aperture mask to create a blur kernel\n",
    "    blur_kernel = cv2.dilate(aperture_mask, np.ones((kernel_size, kernel_size), np.uint8))\n",
    "\n",
    "    # Apply the defocus blur\n",
    "    blurred = cv2.filter2D(img, -1, blur_kernel / np.sum(blur_kernel))\n",
    "\n",
    "    # Convert the blurred image back to a tensor\n",
    "    blurred_tensor = torch.from_numpy(np.transpose(blurred, (2, 0, 1))).unsqueeze(0).float()\n",
    "\n",
    "    return blurred_tensor"
   ]
  },
  {
   "cell_type": "code",
   "execution_count": null,
   "id": "afc76843",
   "metadata": {},
   "outputs": [],
   "source": [
    "# Define the data transformation\n",
    "transform = transforms.Compose([\n",
    "    transforms.Resize((32, 32)),\n",
    "    transforms.ToTensor(),\n",
    "    transforms.Normalize((0.1307,), (0.3081,)),\n",
    "])\n",
    "\n",
    "# Load the MNIST test dataset\n",
    "test_dataset = apply_defocus_blur_tensor(datasets.MNIST('data', train=False, download=True, transform=transform), kernel_size=15)\n",
    "\n",
    "# Define the data loader\n",
    "test_loader = torch.utils.data.DataLoader(test_dataset, batch_size=1000, shuffle=False)\n",
    "\n",
    "# Define the loss function\n",
    "criterion = torch.nn.CrossEntropyLoss()\n",
    "\n",
    "# Initialize counters for correct predictions\n",
    "correct1 = 0\n",
    "correct2 = 0\n",
    "\n",
    "# Loop over the test dataset\n",
    "for data, target in test_loader:\n",
    "\n",
    "    # Forward pass through model 1\n",
    "    output1 = model1(data)\n",
    "    # Calculate the loss for model 1\n",
    "    loss1 = criterion(output1, target)\n",
    "    # Calculate the number of correct predictions for model 1\n",
    "    pred1 = output1.argmax(dim=1, keepdim=True)\n",
    "    correct1 += pred1.eq(target.view_as(pred1)).sum().item()\n",
    "\n",
    "    # Forward pass through model 2\n",
    "    output2 = model2(data)\n",
    "    # Calculate the loss for model 2\n",
    "    loss2 = criterion(output2, target)\n",
    "    # Calculate the number of correct predictions for model 2\n",
    "    pred2 = output2.argmax(dim=1, keepdim=True)\n",
    "    correct2 += pred2.eq(target.view_as(pred2)).sum().item()\n",
    "\n",
    "# Calculate and print the accuracy for each model\n",
    "accuracy1 = correct1 / len(test_loader.dataset)\n",
    "accuracy2 = correct2 / len(test_loader.dataset)\n",
    "ttt.append(accuracy1)\n",
    "resnet18.append(accuracy2)\n",
    "print(f'Model 1 accuracy: {accuracy1}')\n",
    "print(f'Model 2 accuracy: {accuracy2}')"
   ]
  }
 ],
 "metadata": {
  "kernelspec": {
   "display_name": "Python 3 (ipykernel)",
   "language": "python",
   "name": "python3"
  },
  "language_info": {
   "codemirror_mode": {
    "name": "ipython",
    "version": 3
   },
   "file_extension": ".py",
   "mimetype": "text/x-python",
   "name": "python",
   "nbconvert_exporter": "python",
   "pygments_lexer": "ipython3",
   "version": "3.9.13"
  }
 },
 "nbformat": 4,
 "nbformat_minor": 5
}
