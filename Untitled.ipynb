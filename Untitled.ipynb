{
 "cells": [
  {
   "cell_type": "code",
   "execution_count": 3,
   "id": "3bcf2def",
   "metadata": {},
   "outputs": [],
   "source": [
    "import torch\n",
    "import torchvision\n",
    "import torchvision.datasets as datasets\n",
    "from __future__ import print_function\n",
    "import argparse\n",
    "\n",
    "import torch.nn as nn\n",
    "import torch.optim as optim\n",
    "\n",
    "from utils.misc import *\n",
    "from utils.test_helpers import *\n",
    "from utils.prepare_dataset import *\n",
    "from utils.rotation import rotate_batch"
   ]
  },
  {
   "cell_type": "code",
   "execution_count": 2,
   "id": "63fa48af",
   "metadata": {},
   "outputs": [
    {
     "name": "stderr",
     "output_type": "stream",
     "text": [
      "4.6%"
     ]
    },
    {
     "name": "stdout",
     "output_type": "stream",
     "text": [
      "Downloading http://yann.lecun.com/exdb/mnist/train-images-idx3-ubyte.gz\n",
      "Downloading http://yann.lecun.com/exdb/mnist/train-images-idx3-ubyte.gz to ./data\\MNIST\\raw\\train-images-idx3-ubyte.gz\n"
     ]
    },
    {
     "name": "stderr",
     "output_type": "stream",
     "text": [
      "100.0%\n"
     ]
    },
    {
     "name": "stdout",
     "output_type": "stream",
     "text": [
      "Extracting ./data\\MNIST\\raw\\train-images-idx3-ubyte.gz to ./data\\MNIST\\raw\n"
     ]
    },
    {
     "name": "stderr",
     "output_type": "stream",
     "text": [
      "100.0%\n",
      "35.8%"
     ]
    },
    {
     "name": "stdout",
     "output_type": "stream",
     "text": [
      "\n",
      "Downloading http://yann.lecun.com/exdb/mnist/train-labels-idx1-ubyte.gz\n",
      "Downloading http://yann.lecun.com/exdb/mnist/train-labels-idx1-ubyte.gz to ./data\\MNIST\\raw\\train-labels-idx1-ubyte.gz\n",
      "Extracting ./data\\MNIST\\raw\\train-labels-idx1-ubyte.gz to ./data\\MNIST\\raw\n",
      "\n",
      "Downloading http://yann.lecun.com/exdb/mnist/t10k-images-idx3-ubyte.gz\n",
      "Downloading http://yann.lecun.com/exdb/mnist/t10k-images-idx3-ubyte.gz to ./data\\MNIST\\raw\\t10k-images-idx3-ubyte.gz\n"
     ]
    },
    {
     "name": "stderr",
     "output_type": "stream",
     "text": [
      "100.0%\n",
      "100.0%\n"
     ]
    },
    {
     "name": "stdout",
     "output_type": "stream",
     "text": [
      "Extracting ./data\\MNIST\\raw\\t10k-images-idx3-ubyte.gz to ./data\\MNIST\\raw\n",
      "\n",
      "Downloading http://yann.lecun.com/exdb/mnist/t10k-labels-idx1-ubyte.gz\n",
      "Downloading http://yann.lecun.com/exdb/mnist/t10k-labels-idx1-ubyte.gz to ./data\\MNIST\\raw\\t10k-labels-idx1-ubyte.gz\n",
      "Extracting ./data\\MNIST\\raw\\t10k-labels-idx1-ubyte.gz to ./data\\MNIST\\raw\n",
      "\n"
     ]
    }
   ],
   "source": [
    "mnist_trainset = datasets.MNIST(root='./data', train=True, download=True, transform=None)\n",
    "mnist_testset = datasets.MNIST(root='./data', train=False, download=True, transform=None)\n"
   ]
  },
  {
   "cell_type": "code",
   "execution_count": 5,
   "id": "4c96ece9",
   "metadata": {},
   "outputs": [
    {
     "name": "stderr",
     "output_type": "stream",
     "text": [
      "usage: ipykernel_launcher.py [-h] [--dataset DATASET] [--dataroot DATAROOT] [--shared SHARED] [--depth DEPTH]\n",
      "                             [--width WIDTH] [--batch_size BATCH_SIZE] [--group_norm GROUP_NORM] [--lr LR]\n",
      "                             [--nepoch NEPOCH] [--milestone_1 MILESTONE_1] [--milestone_2 MILESTONE_2]\n",
      "                             [--rotation_type ROTATION_TYPE] [--outf OUTF]\n",
      "ipykernel_launcher.py: error: unrecognized arguments: -f C:\\Users\\jaysp\\AppData\\Roaming\\jupyter\\runtime\\kernel-8f0f229e-0e3a-4fe5-a73d-0cdc59a2a0e4.json\n"
     ]
    },
    {
     "ename": "SystemExit",
     "evalue": "2",
     "output_type": "error",
     "traceback": [
      "An exception has occurred, use %tb to see the full traceback.\n",
      "\u001b[1;31mSystemExit\u001b[0m\u001b[1;31m:\u001b[0m 2\n"
     ]
    }
   ],
   "source": [
    "parser = argparse.ArgumentParser()\n",
    "parser.add_argument('--dataset', default='mnist')\n",
    "parser.add_argument('--dataroot', default='/data')\n",
    "parser.add_argument('--shared', default=None)\n",
    "########################################################################\n",
    "parser.add_argument('--depth', default=26, type=int)\n",
    "parser.add_argument('--width', default=1, type=int)\n",
    "parser.add_argument('--batch_size', default=128, type=int)\n",
    "parser.add_argument('--group_norm', default=0, type=int)\n",
    "########################################################################\n",
    "parser.add_argument('--lr', default=0.1, type=float)\n",
    "parser.add_argument('--nepoch', default=75, type=int)\n",
    "parser.add_argument('--milestone_1', default=50, type=int)\n",
    "parser.add_argument('--milestone_2', default=65, type=int)\n",
    "parser.add_argument('--rotation_type', default='rand')\n",
    "########################################################################\n",
    "parser.add_argument('--outf', default='.')\n",
    "\n",
    "args = parser.parse_args()"
   ]
  },
  {
   "cell_type": "code",
   "execution_count": 6,
   "id": "567de27c",
   "metadata": {},
   "outputs": [
    {
     "ename": "NameError",
     "evalue": "name 'args' is not defined",
     "output_type": "error",
     "traceback": [
      "\u001b[1;31m---------------------------------------------------------------------------\u001b[0m",
      "\u001b[1;31mNameError\u001b[0m                                 Traceback (most recent call last)",
      "Cell \u001b[1;32mIn[6], line 1\u001b[0m\n\u001b[1;32m----> 1\u001b[0m my_makedir(\u001b[43margs\u001b[49m\u001b[38;5;241m.\u001b[39moutf)\n\u001b[0;32m      2\u001b[0m \u001b[38;5;28;01mimport\u001b[39;00m \u001b[38;5;21;01mtorch\u001b[39;00m\u001b[38;5;21;01m.\u001b[39;00m\u001b[38;5;21;01mbackends\u001b[39;00m\u001b[38;5;21;01m.\u001b[39;00m\u001b[38;5;21;01mcudnn\u001b[39;00m \u001b[38;5;28;01mas\u001b[39;00m \u001b[38;5;21;01mcudnn\u001b[39;00m\n\u001b[0;32m      3\u001b[0m cudnn\u001b[38;5;241m.\u001b[39mbenchmark \u001b[38;5;241m=\u001b[39m \u001b[38;5;28;01mTrue\u001b[39;00m\n",
      "\u001b[1;31mNameError\u001b[0m: name 'args' is not defined"
     ]
    }
   ],
   "source": [
    "my_makedir(args.outf)\n",
    "import torch.backends.cudnn as cudnn\n",
    "cudnn.benchmark = True\n",
    "net, ext, head, ssh = build_model(args)\n",
    "_, teloader = prepare_test_data(args)\n",
    "_, trloader = prepare_train_data(args)\n",
    "\n",
    "parameters = list(net.parameters())+list(head.parameters())\n",
    "optimizer = optim.SGD(parameters, lr=args.lr, momentum=0.9, weight_decay=5e-4)\n",
    "scheduler = torch.optim.lr_scheduler.MultiStepLR(\n",
    "    optimizer, [args.milestone_1, args.milestone_2], gamma=0.1, last_epoch=-1)\n",
    "criterion = nn.CrossEntropyLoss().cuda()\n",
    "\n",
    "all_err_cls = []\n",
    "all_err_ssh = []\n",
    "print('Running...')\n",
    "print('Error (%)\\t\\ttest\\t\\tself-supervised')\n",
    "for epoch in range(1, args.nepoch+1):\n",
    "    net.train()\n",
    "    ssh.train()\n",
    "\n",
    "    for batch_idx, (inputs, labels) in enumerate(trloader):\n",
    "        optimizer.zero_grad()\n",
    "        inputs_cls, labels_cls = inputs.cuda(), labels.cuda()\n",
    "        outputs_cls = net(inputs_cls)\n",
    "        loss = criterion(outputs_cls, labels_cls)\n",
    "\n",
    "        if args.shared is not None:\n",
    "            inputs_ssh, labels_ssh = rotate_batch(inputs, args.rotation_type)\n",
    "            inputs_ssh, labels_ssh = inputs_ssh.cuda(), labels_ssh.cuda()\n",
    "            outputs_ssh = ssh(inputs_ssh)\n",
    "            loss_ssh = criterion(outputs_ssh, labels_ssh)\n",
    "            loss += loss_ssh\n",
    "\n",
    "        loss.backward()\n",
    "        optimizer.step()\n",
    "\n",
    "    err_cls = test(teloader, net)[0]\n",
    "    err_ssh = 0 if args.shared is None else test(teloader, ssh, sslabel='expand')[0]\n",
    "    all_err_cls.append(err_cls)\n",
    "    all_err_ssh.append(err_ssh)\n",
    "    scheduler.step()\n",
    "\n",
    "    print(('Epoch %d/%d:' %(epoch, args.nepoch)).ljust(24) +\n",
    "                    '%.2f\\t\\t%.2f' %(err_cls*100, err_ssh*100))\n",
    "    torch.save((all_err_cls, all_err_ssh), args.outf + '/loss.pth')\n",
    "    plot_epochs(all_err_cls, all_err_ssh, args.outf + '/loss.pdf')"
   ]
  },
  {
   "cell_type": "code",
   "execution_count": null,
   "id": "32fcee62",
   "metadata": {},
   "outputs": [],
   "source": [
    "state = {'err_cls': err_cls, 'err_ssh': err_ssh,\n",
    "            'net': net.state_dict(), 'head': head.state_dict(),\n",
    "            'optimizer': optimizer.state_dict()}\n",
    "torch.save(state, args.outf + '/ckpt.pth')"
   ]
  }
 ],
 "metadata": {
  "kernelspec": {
   "display_name": "Python 3 (ipykernel)",
   "language": "python",
   "name": "python3"
  },
  "language_info": {
   "codemirror_mode": {
    "name": "ipython",
    "version": 3
   },
   "file_extension": ".py",
   "mimetype": "text/x-python",
   "name": "python",
   "nbconvert_exporter": "python",
   "pygments_lexer": "ipython3",
   "version": "3.9.13"
  }
 },
 "nbformat": 4,
 "nbformat_minor": 5
}
